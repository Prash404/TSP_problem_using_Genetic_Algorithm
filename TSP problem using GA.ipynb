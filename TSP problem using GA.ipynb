{
 "cells": [
  {
   "cell_type": "markdown",
   "id": "d9e33aa2",
   "metadata": {},
   "source": [
    "# Travelling Salesman Problem Using Genetic Algorithm"
   ]
  },
  {
   "cell_type": "code",
   "execution_count": 2,
   "id": "24831712",
   "metadata": {},
   "outputs": [],
   "source": [
    "import random\n",
    "import numpy as np"
   ]
  },
  {
   "cell_type": "code",
   "execution_count": 3,
   "id": "10c5f5a9",
   "metadata": {},
   "outputs": [],
   "source": [
    "cities = 5\n",
    "distance_matrix = np.array([[0, 29, 20, 21, 15],\n",
    "                            [29, 0, 15, 18, 12],\n",
    "                            [20, 15, 0, 12, 25],\n",
    "                            [21, 18, 12, 0, 19],\n",
    "                            [15, 12, 25, 19, 0]])"
   ]
  },
  {
   "cell_type": "code",
   "execution_count": 4,
   "id": "8dbbce9b",
   "metadata": {},
   "outputs": [],
   "source": [
    "#GA parameters\n",
    "population_size = 50\n",
    "num_generations = 1000\n",
    "mutation_rate = 0.1\n",
    "crossover_probability = 0.6"
   ]
  },
  {
   "cell_type": "code",
   "execution_count": 5,
   "id": "67cfa59e",
   "metadata": {},
   "outputs": [],
   "source": [
    "def initialize_population(size, n):\n",
    "    population = [list(np.random.permutation(range(1, n + 1))) for _ in range(size)]\n",
    "    return population"
   ]
  },
  {
   "cell_type": "code",
   "execution_count": 6,
   "id": "b6220212",
   "metadata": {},
   "outputs": [],
   "source": [
    "def calculate_total_distance(route):\n",
    "    total_distance = 0\n",
    "    for i in range(len(route)):\n",
    "        total_distance += distance_matrix[route[i] - 1][route[(i + 1) % len(route)] - 1]\n",
    "    return 1 / total_distance"
   ]
  },
  {
   "cell_type": "code",
   "execution_count": 7,
   "id": "7ea7a260",
   "metadata": {},
   "outputs": [],
   "source": [
    "def select_parents(population, k=5):\n",
    "    tournament = random.sample(population, k)\n",
    "    return max(tournament, key=lambda x: calculate_total_distance(x))"
   ]
  },
  {
   "cell_type": "code",
   "execution_count": 8,
   "id": "14efbbc9",
   "metadata": {},
   "outputs": [],
   "source": [
    "def crossover(parent1, parent2):\n",
    "    n = len(parent1)\n",
    "    start, end = sorted(random.sample(range(n), 2))\n",
    "    offspring = [-1] * n\n",
    "\n",
    "    offspring[start:end + 1] = parent1[start:end + 1]\n",
    "\n",
    "    j = end + 1\n",
    "    for i in range(end + 1, n + end + 1):\n",
    "        if parent2[i % n] not in offspring:\n",
    "            offspring[j % n] = parent2[i % n]\n",
    "            j += 1\n",
    "\n",
    "    return offspring"
   ]
  },
  {
   "cell_type": "code",
   "execution_count": 9,
   "id": "aa6441ca",
   "metadata": {},
   "outputs": [],
   "source": [
    "def mutate(individual):\n",
    "    if random.random() < mutation_rate:\n",
    "        i, j = random.sample(range(len(individual)), 2)\n",
    "        individual[i], individual[j] = individual[j], individual[i]"
   ]
  },
  {
   "cell_type": "code",
   "execution_count": 10,
   "id": "84a885fa",
   "metadata": {},
   "outputs": [],
   "source": [
    "population = initialize_population(population_size, cities)\n",
    "for generation in range(num_generations):\n",
    "    new_population = []\n",
    "\n",
    "    for _ in range(population_size // 2):\n",
    "        parent1 = select_parents(population)\n",
    "        parent2 = select_parents(population)\n",
    "        if random.random() < crossover_probability:\n",
    "            offspring1 = crossover(parent1, parent2)\n",
    "            offspring2 = crossover(parent2, parent1)\n",
    "        else:\n",
    "            offspring1, offspring2 = parent1[:], parent2[:]\n",
    "        mutate(offspring1)\n",
    "        mutate(offspring2)\n",
    "        new_population.extend([offspring1, offspring2])\n",
    "\n",
    "    population = new_population"
   ]
  },
  {
   "cell_type": "code",
   "execution_count": 11,
   "id": "4a2e1fd8",
   "metadata": {},
   "outputs": [],
   "source": [
    "best_individual = max(population, key=lambda x: calculate_total_distance(x))\n",
    "best_distance = 1 / calculate_total_distance(best_individual)"
   ]
  },
  {
   "cell_type": "code",
   "execution_count": 12,
   "id": "ca841d51",
   "metadata": {
    "scrolled": true
   },
   "outputs": [
    {
     "name": "stdout",
     "output_type": "stream",
     "text": [
      "Best Route: [2, 3, 4, 1, 5]\n",
      "Total Distance (Inverse Cost): 75.0\n"
     ]
    }
   ],
   "source": [
    "print(\"Best Route:\", best_individual)\n",
    "print(\"Total Distance (Inverse Cost):\", best_distance)"
   ]
  },
  {
   "cell_type": "markdown",
   "id": "7a0701ca",
   "metadata": {},
   "source": [
    "## Comparison between Genetic Algorithm and Dynamic Programming"
   ]
  },
  {
   "cell_type": "code",
   "execution_count": 13,
   "id": "4ad83fa7",
   "metadata": {},
   "outputs": [],
   "source": [
    "import itertools\n",
    "def solve_tsp_dp(distance_matrix):\n",
    "    n = len(distance_matrix)\n",
    "    # Creating a DP table to store subproblem solutions\n",
    "    dp = np.full((1 << n, n), float('inf'))\n",
    "    parent = np.full((1 << n, n), -1)\n",
    "    \n",
    "    # Initializing DP table for the starting city (city 0)\n",
    "    dp[1][0] = 0\n",
    "    \n",
    "    # Iterating over all subsets of cities\n",
    "    for mask in range(1, 1 << n):\n",
    "        for u in range(n):\n",
    "            if (mask & (1 << u)) != 0:\n",
    "                for v in range(n):\n",
    "                    if (mask & (1 << v)) != 0 and u != v:\n",
    "                        if dp[mask][u] > dp[mask ^ (1 << u)][v] + distance_matrix[v][u]:\n",
    "                            dp[mask][u] = dp[mask ^ (1 << u)][v] + distance_matrix[v][u]\n",
    "                            parent[mask][u] = v\n",
    "    \n",
    "    # Finding the optimal tour length\n",
    "    optimal_tour_length = float('inf')\n",
    "    for u in range(1, n):\n",
    "        tour_length = dp[(1 << n) - 1][u] + distance_matrix[u][0]\n",
    "        if tour_length < optimal_tour_length:\n",
    "            optimal_tour_length = tour_length\n",
    "            last_city = u\n",
    "    \n",
    "    # Reconstructing the best route\n",
    "    route = []\n",
    "    mask = (1 << n) - 1\n",
    "    while last_city != -1:\n",
    "        route.insert(0, last_city)\n",
    "        new_last_city = parent[mask][last_city]\n",
    "        mask ^= (1 << last_city)\n",
    "        last_city = new_last_city\n",
    "    \n",
    "    return optimal_tour_length, np.add(route,1).tolist()"
   ]
  },
  {
   "cell_type": "code",
   "execution_count": 14,
   "id": "c6f12c97",
   "metadata": {},
   "outputs": [
    {
     "name": "stdout",
     "output_type": "stream",
     "text": [
      "Optimal TSP Tour Length (DP): 75.0\n",
      "Best Route: [1, 5, 2, 3, 4]\n"
     ]
    }
   ],
   "source": [
    "optimal_tour_length, optimal_route = solve_tsp_dp(distance_matrix)\n",
    "print(\"Optimal TSP Tour Length (DP):\", optimal_tour_length)\n",
    "print(\"Best Route:\", optimal_route)"
   ]
  },
  {
   "cell_type": "code",
   "execution_count": 15,
   "id": "3db11555",
   "metadata": {},
   "outputs": [],
   "source": [
    "# Comparison\n",
    "gen = []\n",
    "dyn = []"
   ]
  },
  {
   "cell_type": "code",
   "execution_count": 16,
   "id": "21765352",
   "metadata": {},
   "outputs": [],
   "source": [
    "cities = 5\n",
    "distance_matrix = np.array([[0, 29, 20, 21, 15],\n",
    "                            [29, 0, 15, 18, 12],\n",
    "                            [20, 15, 0, 12, 25],\n",
    "                            [21, 18, 12, 0, 19],\n",
    "                            [15, 12, 25, 19, 0]])"
   ]
  },
  {
   "cell_type": "code",
   "execution_count": 17,
   "id": "8c34c6af",
   "metadata": {},
   "outputs": [
    {
     "name": "stdout",
     "output_type": "stream",
     "text": [
      "Best Route GA: [5, 1, 4, 3, 2]\n",
      "Total Distance (Inverse Cost): 75.0\n",
      "Best Route DP: [1, 5, 2, 3, 4]\n",
      "Optimal TSP Tour Length (DP): 75.0\n"
     ]
    }
   ],
   "source": [
    "population = initialize_population(population_size, cities)\n",
    "for generation in range(num_generations):\n",
    "    new_population = []\n",
    "\n",
    "    for _ in range(population_size // 2):\n",
    "        parent1 = select_parents(population)\n",
    "        parent2 = select_parents(population)\n",
    "        if random.random() < crossover_probability:\n",
    "            offspring1 = crossover(parent1, parent2)\n",
    "            offspring2 = crossover(parent2, parent1)\n",
    "        else:\n",
    "            offspring1, offspring2 = parent1[:], parent2[:]\n",
    "        mutate(offspring1)\n",
    "        mutate(offspring2)\n",
    "        new_population.extend([offspring1, offspring2])\n",
    "\n",
    "    population = new_population\n",
    "best_individual = max(population, key=lambda x: calculate_total_distance(x))\n",
    "best_distance = 1 / calculate_total_distance(best_individual)\n",
    "print(\"Best Route GA:\", best_individual)\n",
    "print(\"Total Distance (Inverse Cost):\", best_distance)\n",
    "gen.append(best_distance)\n",
    "optimal_tour_length, optimal_route = solve_tsp_dp(distance_matrix)\n",
    "print(\"Best Route DP:\", optimal_route)\n",
    "print(\"Optimal TSP Tour Length (DP):\", optimal_tour_length)\n",
    "dyn.append(optimal_tour_length)"
   ]
  },
  {
   "cell_type": "code",
   "execution_count": 18,
   "id": "3fd4f988",
   "metadata": {},
   "outputs": [],
   "source": [
    "cities = 6\n",
    "distance_matrix = np.array([[0, 29, 20, 21, 15, 25],\n",
    "                            [29, 0, 15, 18, 12, 32],\n",
    "                            [20, 15, 0, 12, 25, 40],\n",
    "                            [21, 18, 12, 0, 19, 20],\n",
    "                            [15, 12, 25, 19, 0, 34],\n",
    "                            [25, 32, 40, 20, 34, 0]])"
   ]
  },
  {
   "cell_type": "code",
   "execution_count": 19,
   "id": "4a6e99f2",
   "metadata": {},
   "outputs": [
    {
     "name": "stdout",
     "output_type": "stream",
     "text": [
      "Best Route GA: [5, 1, 6, 4, 3, 2]\n",
      "Total Distance (Inverse Cost): 98.99999999999999\n",
      "Best Route DP: [1, 6, 4, 3, 2, 5]\n",
      "Optimal TSP Tour Length (DP): 99.0\n"
     ]
    }
   ],
   "source": [
    "population = initialize_population(population_size, cities)\n",
    "for generation in range(num_generations):\n",
    "    new_population = []\n",
    "\n",
    "    for _ in range(population_size // 2):\n",
    "        parent1 = select_parents(population)\n",
    "        parent2 = select_parents(population)\n",
    "        if random.random() < crossover_probability:\n",
    "            offspring1 = crossover(parent1, parent2)\n",
    "            offspring2 = crossover(parent2, parent1)\n",
    "        else:\n",
    "            offspring1, offspring2 = parent1[:], parent2[:]\n",
    "        mutate(offspring1)\n",
    "        mutate(offspring2)\n",
    "        new_population.extend([offspring1, offspring2])\n",
    "\n",
    "    population = new_population\n",
    "best_individual = max(population, key=lambda x: calculate_total_distance(x))\n",
    "best_distance = 1 / calculate_total_distance(best_individual)\n",
    "print(\"Best Route GA:\", best_individual)\n",
    "print(\"Total Distance (Inverse Cost):\", best_distance)\n",
    "gen.append(best_distance)\n",
    "optimal_tour_length, optimal_route = solve_tsp_dp(distance_matrix)\n",
    "print(\"Best Route DP:\", optimal_route)\n",
    "print(\"Optimal TSP Tour Length (DP):\", optimal_tour_length)\n",
    "dyn.append(optimal_tour_length)"
   ]
  },
  {
   "cell_type": "code",
   "execution_count": 20,
   "id": "1b99ee99",
   "metadata": {},
   "outputs": [],
   "source": [
    "cities = 7\n",
    "distance_matrix = np.array([[0, 29, 20, 21, 15, 25, 30],\n",
    "                            [29, 0, 15, 18, 12, 32, 35],\n",
    "                            [20, 15, 0, 12, 25, 40, 25],\n",
    "                            [21, 18, 12, 0, 19, 20, 36],\n",
    "                            [15, 12, 25, 19, 0, 34, 12],\n",
    "                            [25, 32, 40, 20, 34, 0, 48],\n",
    "                            [30, 35, 25, 36, 12, 48, 0]])"
   ]
  },
  {
   "cell_type": "code",
   "execution_count": 21,
   "id": "870210b2",
   "metadata": {},
   "outputs": [
    {
     "name": "stdout",
     "output_type": "stream",
     "text": [
      "Best Route GA: [7, 5, 1, 6, 4, 2, 3]\n",
      "Total Distance (Inverse Cost): 130.0\n",
      "Best Route DP: [1, 7, 5, 2, 3, 4, 6]\n",
      "Optimal TSP Tour Length (DP): 126.0\n"
     ]
    }
   ],
   "source": [
    "population = initialize_population(population_size, cities)\n",
    "for generation in range(num_generations):\n",
    "    new_population = []\n",
    "\n",
    "    for _ in range(population_size // 2):\n",
    "        parent1 = select_parents(population)\n",
    "        parent2 = select_parents(population)\n",
    "        if random.random() < crossover_probability:\n",
    "            offspring1 = crossover(parent1, parent2)\n",
    "            offspring2 = crossover(parent2, parent1)\n",
    "        else:\n",
    "            offspring1, offspring2 = parent1[:], parent2[:]\n",
    "        mutate(offspring1)\n",
    "        mutate(offspring2)\n",
    "        new_population.extend([offspring1, offspring2])\n",
    "\n",
    "    population = new_population\n",
    "best_individual = max(population, key=lambda x: calculate_total_distance(x))\n",
    "best_distance = 1 / calculate_total_distance(best_individual)\n",
    "print(\"Best Route GA:\", best_individual)\n",
    "print(\"Total Distance (Inverse Cost):\", best_distance)\n",
    "gen.append(best_distance)\n",
    "optimal_tour_length, optimal_route = solve_tsp_dp(distance_matrix)\n",
    "print(\"Best Route DP:\", optimal_route)\n",
    "print(\"Optimal TSP Tour Length (DP):\", optimal_tour_length)\n",
    "dyn.append(optimal_tour_length)"
   ]
  },
  {
   "cell_type": "code",
   "execution_count": 22,
   "id": "b5dacb60",
   "metadata": {},
   "outputs": [],
   "source": [
    "cities = 8\n",
    "distance_matrix = np.array([[0, 29, 20, 21, 15, 25, 30, 19],\n",
    "                            [29, 0, 15, 18, 12, 32, 35, 22],\n",
    "                            [20, 15, 0, 12, 25, 40, 25, 34],\n",
    "                            [21, 18, 12, 0, 19, 20, 36, 42],\n",
    "                            [15, 12, 25, 19, 0, 34, 12, 37],\n",
    "                            [25, 32, 40, 20, 34, 0, 48, 29],\n",
    "                            [30, 35, 25, 36, 12, 48, 0, 48],\n",
    "                            [19, 22, 34, 42, 37, 29, 48, 0]])"
   ]
  },
  {
   "cell_type": "code",
   "execution_count": 23,
   "id": "2e62a0e2",
   "metadata": {},
   "outputs": [
    {
     "name": "stdout",
     "output_type": "stream",
     "text": [
      "Best Route GA: [1, 6, 4, 3, 7, 5, 2, 8]\n",
      "Total Distance (Inverse Cost): 147.0\n",
      "Best Route DP: [1, 8, 2, 5, 7, 3, 4, 6]\n",
      "Optimal TSP Tour Length (DP): 147.0\n"
     ]
    }
   ],
   "source": [
    "population = initialize_population(population_size, cities)\n",
    "for generation in range(num_generations):\n",
    "    new_population = []\n",
    "\n",
    "    for _ in range(population_size // 2):\n",
    "        parent1 = select_parents(population)\n",
    "        parent2 = select_parents(population)\n",
    "        if random.random() < crossover_probability:\n",
    "            offspring1 = crossover(parent1, parent2)\n",
    "            offspring2 = crossover(parent2, parent1)\n",
    "        else:\n",
    "            offspring1, offspring2 = parent1[:], parent2[:]\n",
    "        mutate(offspring1)\n",
    "        mutate(offspring2)\n",
    "        new_population.extend([offspring1, offspring2])\n",
    "\n",
    "    population = new_population\n",
    "best_individual = max(population, key=lambda x: calculate_total_distance(x))\n",
    "best_distance = 1 / calculate_total_distance(best_individual)\n",
    "print(\"Best Route GA:\", best_individual)\n",
    "print(\"Total Distance (Inverse Cost):\", best_distance)\n",
    "gen.append(best_distance)\n",
    "optimal_tour_length, optimal_route = solve_tsp_dp(distance_matrix)\n",
    "print(\"Best Route DP:\", optimal_route)\n",
    "print(\"Optimal TSP Tour Length (DP):\", optimal_tour_length)\n",
    "dyn.append(optimal_tour_length)"
   ]
  },
  {
   "cell_type": "code",
   "execution_count": 24,
   "id": "25fc8999",
   "metadata": {},
   "outputs": [],
   "source": [
    "cities = 9\n",
    "distance_matrix = np.array([[0, 29, 20, 21, 15, 25, 30, 19, 23],\n",
    "                            [29, 0, 15, 18, 12, 32, 35, 22, 35],\n",
    "                            [20, 15, 0, 12, 25, 40, 25, 34, 47],\n",
    "                            [21, 18, 12, 0, 19, 20, 36, 42, 38],\n",
    "                            [15, 12, 25, 19, 0, 34, 12, 37, 46],\n",
    "                            [25, 32, 40, 20, 34, 0, 48, 29, 49],\n",
    "                            [30, 35, 25, 36, 12, 48, 0, 48, 52],\n",
    "                            [19, 22, 34, 42, 37, 29, 48, 0, 14],\n",
    "                            [23, 35, 47, 38, 46, 49, 52, 14, 0]])"
   ]
  },
  {
   "cell_type": "code",
   "execution_count": 25,
   "id": "7615af02",
   "metadata": {},
   "outputs": [
    {
     "name": "stdout",
     "output_type": "stream",
     "text": [
      "Best Route GA: [6, 4, 3, 7, 5, 2, 8, 9, 1]\n",
      "Total Distance (Inverse Cost): 165.0\n",
      "Best Route DP: [1, 9, 8, 2, 5, 7, 3, 4, 6]\n",
      "Optimal TSP Tour Length (DP): 165.0\n"
     ]
    }
   ],
   "source": [
    "population = initialize_population(population_size, cities)\n",
    "for generation in range(num_generations):\n",
    "    new_population = []\n",
    "\n",
    "    for _ in range(population_size // 2):\n",
    "        parent1 = select_parents(population)\n",
    "        parent2 = select_parents(population)\n",
    "        if random.random() < crossover_probability:\n",
    "            offspring1 = crossover(parent1, parent2)\n",
    "            offspring2 = crossover(parent2, parent1)\n",
    "        else:\n",
    "            offspring1, offspring2 = parent1[:], parent2[:]\n",
    "        mutate(offspring1)\n",
    "        mutate(offspring2)\n",
    "        new_population.extend([offspring1, offspring2])\n",
    "\n",
    "    population = new_population\n",
    "best_individual = max(population, key=lambda x: calculate_total_distance(x))\n",
    "best_distance = 1 / calculate_total_distance(best_individual)\n",
    "print(\"Best Route GA:\", best_individual)\n",
    "print(\"Total Distance (Inverse Cost):\", best_distance)\n",
    "gen.append(best_distance)\n",
    "optimal_tour_length, optimal_route = solve_tsp_dp(distance_matrix)\n",
    "print(\"Best Route DP:\", optimal_route)\n",
    "print(\"Optimal TSP Tour Length (DP):\", optimal_tour_length)\n",
    "dyn.append(optimal_tour_length)"
   ]
  },
  {
   "cell_type": "code",
   "execution_count": 26,
   "id": "88fde19f",
   "metadata": {},
   "outputs": [],
   "source": [
    "cities = 10\n",
    "distance_matrix = np.array([[0, 29, 20, 21, 15, 25, 30, 19, 23, 12],\n",
    "                            [29, 0, 15, 18, 12, 32, 35, 22, 35, 16],\n",
    "                            [20, 15, 0, 12, 25, 40, 25, 34, 47, 23],\n",
    "                            [21, 18, 12, 0, 19, 20, 36, 42, 38, 28],\n",
    "                            [15, 12, 25, 19, 0, 34, 12, 37, 46, 19],\n",
    "                            [25, 32, 40, 20, 34, 0, 48, 29, 49, 33],\n",
    "                            [30, 35, 25, 36, 12, 48, 0, 48, 52, 41],\n",
    "                            [19, 22, 34, 42, 37, 29, 48, 0, 14, 50],\n",
    "                            [23, 35, 47, 38, 46, 49, 52, 14, 0, 20],\n",
    "                            [12, 16, 23, 28, 19, 33, 41, 50, 20, 0]])"
   ]
  },
  {
   "cell_type": "code",
   "execution_count": 27,
   "id": "8be2f618",
   "metadata": {},
   "outputs": [
    {
     "name": "stdout",
     "output_type": "stream",
     "text": [
      "Best Route GA: [2, 3, 7, 5, 1, 10, 9, 8, 6, 4]\n",
      "Total Distance (Inverse Cost): 180.0\n",
      "Best Route DP: [1, 10, 9, 8, 2, 5, 7, 3, 4, 6]\n",
      "Optimal TSP Tour Length (DP): 174.0\n"
     ]
    }
   ],
   "source": [
    "population = initialize_population(population_size, cities)\n",
    "for generation in range(num_generations):\n",
    "    new_population = []\n",
    "\n",
    "    for _ in range(population_size // 2):\n",
    "        parent1 = select_parents(population)\n",
    "        parent2 = select_parents(population)\n",
    "        if random.random() < crossover_probability:\n",
    "            offspring1 = crossover(parent1, parent2)\n",
    "            offspring2 = crossover(parent2, parent1)\n",
    "        else:\n",
    "            offspring1, offspring2 = parent1[:], parent2[:]\n",
    "        mutate(offspring1)\n",
    "        mutate(offspring2)\n",
    "        new_population.extend([offspring1, offspring2])\n",
    "\n",
    "    population = new_population\n",
    "best_individual = max(population, key=lambda x: calculate_total_distance(x))\n",
    "best_distance = 1 / calculate_total_distance(best_individual)\n",
    "print(\"Best Route GA:\", best_individual)\n",
    "print(\"Total Distance (Inverse Cost):\", best_distance)\n",
    "gen.append(best_distance)\n",
    "optimal_tour_length, optimal_route = solve_tsp_dp(distance_matrix)\n",
    "print(\"Best Route DP:\", optimal_route)\n",
    "print(\"Optimal TSP Tour Length (DP):\", optimal_tour_length)\n",
    "dyn.append(optimal_tour_length)"
   ]
  },
  {
   "cell_type": "code",
   "execution_count": 28,
   "id": "6b87acf1",
   "metadata": {
    "scrolled": true
   },
   "outputs": [
    {
     "data": {
      "image/png": "[encoded data removed]",
      "text/plain": [
       "<Figure size 1000x600 with 1 Axes>"
      ]
     },
     "metadata": {},
     "output_type": "display_data"
    }
   ],
   "source": [
    "import matplotlib.pyplot as plt\n",
    "\n",
    "noc = [5,6,7,8,9,10]\n",
    "\n",
    "plt.figure(figsize=(10, 6))\n",
    "plt.plot(noc, gen, 'g', label='Genetic Algorithm')\n",
    "plt.plot(noc, dyn, 'r', label='Dynamic Programming')\n",
    "\n",
    "plt.title('Total Distance Covered vs. Number of Cities')\n",
    "plt.xlabel('Number of Cities')\n",
    "plt.ylabel('Total Distance Covered')\n",
    "plt.legend()\n",
    "plt.grid(True)\n",
    "\n",
    "plt.show()"
   ]
  },
  {
   "cell_type": "markdown",
   "id": "2f1ed2bf",
   "metadata": {},
   "source": [
    "\n",
    "## We can observe that the outputs of odd number of cities is more accurate than the even ones.\n",
    "## In the TSP, when the number of cities is even, it's possible to create a tour with an equal number of cities on each side of the tour, resulting in two sub-tours. \n",
    "## This can lead to local optima where one sub-tour is optimal but combining them is suboptimal. \n",
    "## GAs, which explore a wide solution space, may be more likely to get stuck in such local optima."
   ]
  }
 ],
 "metadata": {
  "kernelspec": {
   "display_name": "Python 3 (ipykernel)",
   "language": "python",
   "name": "python3"
  },
  "language_info": {
   "codemirror_mode": {
    "name": "ipython",
    "version": 3
   },
   "file_extension": ".py",
   "mimetype": "text/x-python",
   "name": "python",
   "nbconvert_exporter": "python",
   "pygments_lexer": "ipython3",
   "version": "3.10.9"
  }
 },
 "nbformat": 4,
 "nbformat_minor": 5
}
